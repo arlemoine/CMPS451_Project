{
 "cells": [
  {
   "cell_type": "markdown",
   "id": "3b667ffc-2f04-4ec2-93e8-10ab3729aee0",
   "metadata": {},
   "source": [
    "# Adam's Notebook"
   ]
  },
  {
   "cell_type": "code",
   "execution_count": null,
   "id": "ae786de7-33e9-4946-b84e-1f7465913f85",
   "metadata": {},
   "outputs": [],
   "source": []
  }
 ],
 "metadata": {
  "kernelspec": {
   "display_name": "Python 3 (ipykernel)",
   "language": "python",
   "name": "python3"
  },
  "language_info": {
   "codemirror_mode": {
    "name": "ipython",
    "version": 3
   },
   "file_extension": ".py",
   "mimetype": "text/x-python",
   "name": "python",
   "nbconvert_exporter": "python",
   "pygments_lexer": "ipython3",
   "version": "3.9.23"
  }
 },
 "nbformat": 4,
 "nbformat_minor": 5
}
