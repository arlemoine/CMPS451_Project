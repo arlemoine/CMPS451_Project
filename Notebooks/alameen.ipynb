{
 "cells": [
  {
   "cell_type": "markdown",
   "metadata": {},
   "source": [
    "# <center>Clustering Analysis<center>"
   ]
  },
  {
   "cell_type": "markdown",
   "metadata": {},
   "source": [
    "<p>Team Name: Regular\n",
    "<p>Student Names: Alameen Adeku, Adam Rodi, Adriean Lemoine, Nicholas Burgo"
   ]
  },
  {
   "cell_type": "markdown",
   "metadata": {},
   "source": [
    "## Instructions\n",
    "Use generic coding style unless hard-coded values are really necessary.<br>\n",
    "Your code must be efficient and use self-explanatory naming.<br>\n",
    "Use appropriate Python library methods for each task instead of using loops.<br>\n",
    "Run your entire code and save. Then submit this <b>saved</b> copy."
   ]
  },
  {
   "cell_type": "markdown",
   "metadata": {
    "collapsed": true
   },
   "source": [
    "## Imports"
   ]
  },
  {
   "cell_type": "code",
   "execution_count": 10,
   "metadata": {
    "collapsed": true
   },
   "outputs": [],
   "source": [
    "# Adriean's code\n",
    "import numpy as np\n",
    "import pandas as pd\n",
    "import tifffile as tfl"
   ]
  },
  {
   "cell_type": "code",
   "execution_count": 11,
   "metadata": {},
   "outputs": [],
   "source": [
    "# Adriean's code\n",
    "def load_tiff_stacks(directory: str, n: int):\n",
    "    '''Load tiff stacks as 3D numpy arrays into stack_array.'''\n",
    "    stack_array = []\n",
    "    \n",
    "    for i in range(n):\n",
    "        stack = tfl.imread(f'{directory}/ZS-{i+1}.tif').astype(float)\n",
    "        stack_array.append(stack)\n",
    "\n",
    "    return stack_array\n",
    "\n",
    "def normalize_all_tiff_stacks(tiff_stack_array):\n",
    "    normalized_tiff_stacks = []\n",
    "    \n",
    "    for i in range(len(tiff_stack_array)):\n",
    "        normalized_tiff_stacks.append(normalize_tiff_stack(tiff_stack_array[i]))\n",
    "\n",
    "    return normalized_tiff_stacks\n",
    "\n",
    "\n",
    "def normalize_tiff_stack(tiff_stack):\n",
    "    '''Normalize tiff stack in range 0-1.'''\n",
    "    norm_tiff_stack = tiff_stack / tiff_stack.max()\n",
    "    return norm_tiff_stack \n",
    "\n",
    "def get_all_pixel_tables(tif_stack_array):\n",
    "    pixel_tables = []\n",
    "\n",
    "    for i in range(len(tif_stack_array)):\n",
    "        pixel_tables.append(stack_to_pixel_table(tif_stack_array[i]))\n",
    "\n",
    "    return pixel_tables\n",
    "\n",
    "def stack_to_pixel_table(tiff_array):\n",
    "    depth, height, width = tiff_array.shape\n",
    "\n",
    "    # Create coordinate grid\n",
    "    z, y, x = np.meshgrid(\n",
    "        np.arange(depth),\n",
    "        np.arange(height),\n",
    "        np.arange(width),\n",
    "        indexing = 'ij'\n",
    "    )\n",
    "\n",
    "    # Flatten to build table\n",
    "    pixel_table = np.column_stack((\n",
    "        z.flatten(), # z coordinate\n",
    "        y.flatten(), # y coordinate\n",
    "        x.flatten(), # x coordinate\n",
    "        tiff_array.flatten() # intensity\n",
    "    ))\n",
    "\n",
    "    return pixel_table\n",
    "\n",
    "def stacks_to_dataframe(stacks_2d, group_label):\n",
    "    '''Convert list of 2D pixel tables to one DataFrame.'''\n",
    "    df_all = pd.DataFrame()\n",
    "    \n",
    "    for i, pixel_table in enumerate(stacks_2d):\n",
    "        df = pd.DataFrame(pixel_table, columns=['z', 'y', 'x', 'intensity'])\n",
    "        df[['z', 'y', 'x']] = df[['z', 'y', 'x']].astype(int) \n",
    "        df['fish_id'] = i + 1\n",
    "        df['group'] = group_label\n",
    "        df_all = pd.concat([df_all, df], ignore_index=True)\n",
    "        \n",
    "    return df_all\n",
    "\n",
    "def build_group_dataframe(directory: str, n: int, group_label='control'):\n",
    "    # Load stacks\n",
    "    stacks = load_tiff_stacks(directory, n)\n",
    "    \n",
    "    # Normalize stacks\n",
    "    stacks_norm = normalize_all_tiff_stacks(stacks)\n",
    "    \n",
    "    # Convert to 2D pixel tables\n",
    "    stacks_2d = get_all_pixel_tables(stacks_norm)\n",
    "    \n",
    "    # Build a combined singular Pandas DataFrame\n",
    "    df = stacks_to_dataframe(stacks_2d, group_label)\n",
    "    \n",
    "    return df"
   ]
  },
  {
   "cell_type": "code",
   "execution_count": null,
   "metadata": {},
   "outputs": [],
   "source": [
    "# Feature helpers: texture and gradient\n",
    "# Requires scipy library if you dont have it yet: conda install -c conda-forge scipy if your package manager is conda\n",
    "from scipy.ndimage import uniform_filter, sobel\n",
    "import numpy as np\n",
    "\n",
    "def local_std_2d(img2d, k=3):\n",
    "    \"\"\"Fast local std using mean and mean-of-squares (reflect padding).\"\"\"\n",
    "    m = uniform_filter(img2d, size=k, mode='reflect')\n",
    "    m2 = uniform_filter(img2d*img2d, size=k, mode='reflect')\n",
    "    var = m2 - m*m\n",
    "    var[var < 0] = 0.0\n",
    "    return np.sqrt(var).astype(np.float32)\n",
    "\n",
    "def compute_texture_for_stack(stack3d, k=3):\n",
    "    \"\"\"Compute local std per z-slice; returns float32 array same shape as stack3d.\"\"\"\n",
    "    depth = stack3d.shape[0]\n",
    "    tex = np.empty_like(stack3d, dtype=np.float32)\n",
    "    for z in range(depth):\n",
    "        tex[z] = local_std_2d(stack3d[z], k=k)\n",
    "    return tex\n",
    "\n",
    "def compute_gradient_magnitude_stack(stack3d):\n",
    "    \"\"\"Compute Sobel-based 2D gradient magnitude per z-slice.\"\"\"\n",
    "    depth = stack3d.shape[0]\n",
    "    grad = np.empty_like(stack3d, dtype=np.float32)\n",
    "    for z in range(depth):\n",
    "        gx = sobel(stack3d[z], axis=1, mode='reflect')  # x-direction\n",
    "        gy = sobel(stack3d[z], axis=0, mode='reflect')  # y-direction\n",
    "        grad[z] = np.hypot(gx, gy).astype(np.float32)\n",
    "    return grad\n",
    "\n",
    "def stack_to_pixel_table_with_features(tiff_array, texture_array=None, gradient_array=None):\n",
    "    \"\"\"Return (pixel_table, colnames). Non-destructive: keeps original stack_to_pixel_table intact.\"\"\"\n",
    "    depth, height, width = tiff_array.shape\n",
    "    z, y, x = np.meshgrid(\n",
    "        np.arange(depth),\n",
    "        np.arange(height),\n",
    "        np.arange(width),\n",
    "        indexing='ij'\n",
    "    )\n",
    "    cols = [z.flatten(), y.flatten(), x.flatten(), tiff_array.flatten()]\n",
    "    col_names = ['z', 'y', 'x', 'intensity']\n",
    "    if texture_array is not None:\n",
    "        cols.append(texture_array.flatten()); col_names.append('texture')\n",
    "    if gradient_array is not None:\n",
    "        cols.append(gradient_array.flatten()); col_names.append('gradient')\n",
    "    pixel_table = np.column_stack(cols)\n",
    "    return pixel_table, col_names"
   ]
  },
  {
   "cell_type": "code",
   "execution_count": 17,
   "metadata": {},
   "outputs": [],
   "source": [
    "def build_group_dataframe_with_features(directory: str, n: int, group_label='control', tex_k=3):\n",
    "    \"\"\"Load stacks, normalize, compute texture+grad, convert to dataframe with feature columns.\"\"\"\n",
    "    stacks = load_tiff_stacks(directory, n)\n",
    "    stacks_norm = normalize_all_tiff_stacks(stacks)\n",
    "    # compute features per stack\n",
    "    texture_stacks = [compute_texture_for_stack(s, k=tex_k) for s in stacks_norm]\n",
    "    gradient_stacks = [compute_gradient_magnitude_stack(s) for s in stacks_norm]\n",
    "    # convert each stack into pixel_table with feature columns and then to DataFrame\n",
    "    df_all = pd.DataFrame()\n",
    "    for i, s in enumerate(stacks_norm):\n",
    "        table, colnames = stack_to_pixel_table_with_features(s, texture_stacks[i], gradient_stacks[i])\n",
    "        df = pd.DataFrame(table, columns=colnames)\n",
    "        df[['z','y','x']] = df[['z','y','x']].astype(int)\n",
    "        df['fish_id'] = i + 1\n",
    "        df['group'] = group_label\n",
    "        df_all = pd.concat([df_all, df], ignore_index=True)\n",
    "    return df_all"
   ]
  },
  {
   "cell_type": "markdown",
   "metadata": {},
   "source": [
    "## Read Data"
   ]
  },
  {
   "cell_type": "code",
   "execution_count": 12,
   "metadata": {},
   "outputs": [],
   "source": [
    "# Adriean's code\n",
    "num_in_control = 3\n",
    "control_df = build_group_dataframe('../Data/zebrafish-data', num_in_control, 'control')\n",
    "\n",
    "fish_cat1 = []\n",
    "num_fish_cat1 = 0\n",
    "\n",
    "fish_cat2 = []\n",
    "num_fish_cat2 = 0\n",
    "\n"
   ]
  },
  {
   "cell_type": "code",
   "execution_count": null,
   "metadata": {},
   "outputs": [
    {
     "name": "stdout",
     "output_type": "stream",
     "text": [
      "   z  y  x  intensity  fish_id    group\n",
      "0  0  0  0   0.024174        1  control\n",
      "1  0  0  1   0.021707        1  control\n",
      "2  0  0  2   0.024174        1  control\n",
      "3  0  0  3   0.025160        1  control\n",
      "4  0  0  4   0.025160        1  control\n",
      "\n",
      "z              int32\n",
      "y              int32\n",
      "x              int32\n",
      "intensity    float64\n",
      "fish_id        int64\n",
      "group         object\n",
      "dtype: object\n"
     ]
    }
   ],
   "source": [
    "# Adriean's code\n",
    "print(control_df.head())\n",
    "print()\n",
    "print(control_df.dtypes)\n",
    "# output: pandas df where each row represents a pixel with corrdinates intensity, and fish from which data is obtained from."
   ]
  },
  {
   "cell_type": "code",
   "execution_count": null,
   "metadata": {},
   "outputs": [
    {
     "name": "stdout",
     "output_type": "stream",
     "text": [
      "   z  y  x  intensity   texture  gradient  fish_id    group\n",
      "0  0  0  0   0.024174  0.001944  0.005753        1  control\n",
      "1  0  0  1   0.021707  0.001851  0.012343        1  control\n",
      "2  0  0  2   0.024174  0.001835  0.014668        1  control\n",
      "3  0  0  3   0.025160  0.002023  0.006619        1  control\n",
      "4  0  0  4   0.025160  0.001740  0.006318        1  control\n",
      "z              int32\n",
      "y              int32\n",
      "x              int32\n",
      "intensity    float64\n",
      "texture      float64\n",
      "gradient     float64\n",
      "fish_id        int64\n",
      "group         object\n",
      "dtype: object\n"
     ]
    }
   ],
   "source": [
    "# Quick test on first group\n",
    "num_in_control = 1  # test on a single stack first\n",
    "test_df = build_group_dataframe_with_features('../Data/zebrafish-data', num_in_control, 'control', tex_k=5)\n",
    "print(test_df.head())\n",
    "print(test_df.dtypes)\n"
   ]
  },
  {
   "cell_type": "markdown",
   "metadata": {},
   "source": [
    "## Visual Exploration of Data"
   ]
  },
  {
   "cell_type": "markdown",
   "metadata": {},
   "source": [
    "### Histograms"
   ]
  },
  {
   "cell_type": "code",
   "execution_count": null,
   "metadata": {},
   "outputs": [],
   "source": []
  },
  {
   "cell_type": "markdown",
   "metadata": {},
   "source": [
    "### Distributions"
   ]
  },
  {
   "cell_type": "code",
   "execution_count": null,
   "metadata": {},
   "outputs": [],
   "source": []
  },
  {
   "cell_type": "markdown",
   "metadata": {},
   "source": [
    "### Box-Whisker Plots"
   ]
  },
  {
   "cell_type": "code",
   "execution_count": null,
   "metadata": {},
   "outputs": [],
   "source": []
  },
  {
   "cell_type": "markdown",
   "metadata": {},
   "source": [
    "### Violin Plots"
   ]
  },
  {
   "cell_type": "code",
   "execution_count": null,
   "metadata": {},
   "outputs": [],
   "source": []
  },
  {
   "cell_type": "markdown",
   "metadata": {},
   "source": [
    "## Data Quality & Cleaning"
   ]
  },
  {
   "cell_type": "markdown",
   "metadata": {},
   "source": [
    "Instruction: Add a comment for each method"
   ]
  },
  {
   "cell_type": "code",
   "execution_count": null,
   "metadata": {},
   "outputs": [],
   "source": []
  },
  {
   "cell_type": "markdown",
   "metadata": {},
   "source": [
    "## Handling Redundancy"
   ]
  },
  {
   "cell_type": "markdown",
   "metadata": {},
   "source": [
    "### X-square Test"
   ]
  },
  {
   "cell_type": "code",
   "execution_count": null,
   "metadata": {},
   "outputs": [],
   "source": []
  },
  {
   "cell_type": "markdown",
   "metadata": {},
   "source": [
    "### Correlation Analysis"
   ]
  },
  {
   "cell_type": "code",
   "execution_count": null,
   "metadata": {},
   "outputs": [],
   "source": []
  },
  {
   "cell_type": "markdown",
   "metadata": {},
   "source": [
    "### Visual Exploration (scatter-plot matrix)"
   ]
  },
  {
   "cell_type": "code",
   "execution_count": null,
   "metadata": {},
   "outputs": [],
   "source": []
  },
  {
   "cell_type": "markdown",
   "metadata": {},
   "source": [
    "## Dimensionality Reduction"
   ]
  },
  {
   "cell_type": "markdown",
   "metadata": {},
   "source": [
    "### PCA"
   ]
  },
  {
   "cell_type": "code",
   "execution_count": null,
   "metadata": {},
   "outputs": [],
   "source": []
  },
  {
   "cell_type": "markdown",
   "metadata": {},
   "source": [
    "## Discretization"
   ]
  },
  {
   "cell_type": "code",
   "execution_count": null,
   "metadata": {},
   "outputs": [],
   "source": []
  },
  {
   "cell_type": "markdown",
   "metadata": {},
   "source": [
    "### Histogram of Discretized Attribute"
   ]
  },
  {
   "cell_type": "code",
   "execution_count": null,
   "metadata": {},
   "outputs": [],
   "source": []
  },
  {
   "cell_type": "markdown",
   "metadata": {},
   "source": [
    "### X-square Test of Discretized Attributes"
   ]
  },
  {
   "cell_type": "code",
   "execution_count": null,
   "metadata": {},
   "outputs": [],
   "source": []
  },
  {
   "cell_type": "markdown",
   "metadata": {},
   "source": [
    "### Visual Exploration (scatter-plot matrix) of Discretized Attributes"
   ]
  },
  {
   "cell_type": "code",
   "execution_count": null,
   "metadata": {},
   "outputs": [],
   "source": []
  },
  {
   "cell_type": "markdown",
   "metadata": {},
   "source": [
    "## Feature Selection/Generation"
   ]
  },
  {
   "cell_type": "markdown",
   "metadata": {},
   "source": [
    "### Select Features"
   ]
  },
  {
   "cell_type": "code",
   "execution_count": null,
   "metadata": {},
   "outputs": [],
   "source": []
  },
  {
   "cell_type": "markdown",
   "metadata": {},
   "source": [
    "### Generate Features"
   ]
  },
  {
   "cell_type": "code",
   "execution_count": null,
   "metadata": {},
   "outputs": [],
   "source": []
  },
  {
   "cell_type": "markdown",
   "metadata": {},
   "source": [
    "# Generate Clusters"
   ]
  },
  {
   "cell_type": "markdown",
   "metadata": {},
   "source": [
    "## K-means"
   ]
  },
  {
   "cell_type": "code",
   "execution_count": null,
   "metadata": {},
   "outputs": [],
   "source": []
  },
  {
   "cell_type": "markdown",
   "metadata": {},
   "source": [
    "## Hierarchical"
   ]
  },
  {
   "cell_type": "code",
   "execution_count": null,
   "metadata": {},
   "outputs": [],
   "source": []
  },
  {
   "cell_type": "markdown",
   "metadata": {},
   "source": [
    "# Evaluation of Clusters"
   ]
  },
  {
   "cell_type": "markdown",
   "metadata": {},
   "source": [
    "See instructions provided in the report template"
   ]
  },
  {
   "cell_type": "code",
   "execution_count": null,
   "metadata": {},
   "outputs": [],
   "source": []
  },
  {
   "cell_type": "markdown",
   "metadata": {
    "collapsed": true
   },
   "source": [
    "## <center> REFERENCES </center>\n",
    "List resources (book, internet page, etc.) that you used to complete this challenge."
   ]
  },
  {
   "cell_type": "markdown",
   "metadata": {},
   "source": []
  }
 ],
 "metadata": {
  "kernelspec": {
   "display_name": "base",
   "language": "python",
   "name": "python3"
  },
  "language_info": {
   "codemirror_mode": {
    "name": "ipython",
    "version": 3
   },
   "file_extension": ".py",
   "mimetype": "text/x-python",
   "name": "python",
   "nbconvert_exporter": "python",
   "pygments_lexer": "ipython3",
   "version": "3.12.3"
  }
 },
 "nbformat": 4,
 "nbformat_minor": 2
}
